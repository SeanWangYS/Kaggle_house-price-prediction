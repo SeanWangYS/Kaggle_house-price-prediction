{
 "cells": [
  {
   "cell_type": "markdown",
   "metadata": {},
   "source": [
    "# journal\n",
    "* 0709\n",
    ">* 目前已將Numerical & Categorical Variables 調整完成\n",
    ">* 採取刪除 not important feature 的策略\n",
    ">* ensumble的K-Fold 驗證還沒搞定\n",
    ">* 還沒測出最好的 model組合\n",
    "\n",
    "* 0716\n",
    ">* 採取刪除 not important feature 的策略\n",
    ">* ensumble的K-Fold 驗證以搞定\n",
    ">* 已測出最好的 model組合\n",
    "\n",
    "* 0717\n",
    ">* 採取保留 not important feature 的策略 → 突破先前最高紀錄\n",
    ">* 還可再嘗試演算法參數調整\n"
   ]
  },
  {
   "cell_type": "markdown",
   "metadata": {},
   "source": [
    "# Agenda\n",
    "## 4. Basic Modeling & Evaluation\n",
    "\n",
    "## 5. Hyperparameters Tuning\n",
    "\n",
    "## 6. Ensemble Methods\n",
    "\n",
    "====================================================================="
   ]
  },
  {
   "cell_type": "markdown",
   "metadata": {},
   "source": [
    "## 4.Basic Modeling & Evaluation"
   ]
  },
  {
   "cell_type": "code",
   "execution_count": 168,
   "metadata": {},
   "outputs": [],
   "source": [
    "#import useful tools\n",
    "import pandas as pd\n",
    "import numpy as np\n",
    "import matplotlib.pyplot as plt\n",
    "import seaborn as sns\n",
    "from math import sqrt\n",
    "\n",
    "import warnings\n",
    "warnings.filterwarnings('ignore')\n"
   ]
  },
  {
   "cell_type": "code",
   "execution_count": 169,
   "metadata": {},
   "outputs": [],
   "source": [
    "from sklearn import datasets, linear_model\n",
    "from sklearn.ensemble import RandomForestRegressor\n",
    "from sklearn.ensemble import GradientBoostingRegressor\n",
    "from xgboost import XGBRegressor\n",
    "from sklearn.svm import SVR\n",
    "from sklearn.kernel_ridge import KernelRidge\n"
   ]
  },
  {
   "cell_type": "code",
   "execution_count": 170,
   "metadata": {},
   "outputs": [],
   "source": [
    "from sklearn.model_selection import train_test_split\n",
    "from sklearn.metrics import mean_squared_error\n",
    "from sklearn.model_selection import cross_val_score"
   ]
  },
  {
   "cell_type": "markdown",
   "metadata": {},
   "source": [
    "### Read data"
   ]
  },
  {
   "cell_type": "code",
   "execution_count": 172,
   "metadata": {
    "scrolled": false
   },
   "outputs": [
    {
     "data": {
      "text/html": [
       "<div>\n",
       "<style scoped>\n",
       "    .dataframe tbody tr th:only-of-type {\n",
       "        vertical-align: middle;\n",
       "    }\n",
       "\n",
       "    .dataframe tbody tr th {\n",
       "        vertical-align: top;\n",
       "    }\n",
       "\n",
       "    .dataframe thead th {\n",
       "        text-align: right;\n",
       "    }\n",
       "</style>\n",
       "<table border=\"1\" class=\"dataframe\">\n",
       "  <thead>\n",
       "    <tr style=\"text-align: right;\">\n",
       "      <th></th>\n",
       "      <th>1stFlrSF</th>\n",
       "      <th>2ndFlrSF</th>\n",
       "      <th>3SsnPorch</th>\n",
       "      <th>BedroomAbvGr</th>\n",
       "      <th>EnclosedPorch</th>\n",
       "      <th>ExterQual</th>\n",
       "      <th>Foundation</th>\n",
       "      <th>FullBath</th>\n",
       "      <th>GarageCars</th>\n",
       "      <th>GrLivArea</th>\n",
       "      <th>...</th>\n",
       "      <th>Remod_age_class_(17.143, 21.429)</th>\n",
       "      <th>Remod_age_class_(21.429, 25.714)</th>\n",
       "      <th>Remod_age_class_(25.714, 30.0)</th>\n",
       "      <th>Remod_age_class_(30.0, 34.286)</th>\n",
       "      <th>Remod_age_class_(34.286, 38.571)</th>\n",
       "      <th>Remod_age_class_(38.571, 42.857)</th>\n",
       "      <th>Remod_age_class_(42.857, 47.143)</th>\n",
       "      <th>Remod_age_class_(47.143, 51.429)</th>\n",
       "      <th>Remod_age_class_(51.429, 55.714)</th>\n",
       "      <th>Remod_age_class_(55.714, 60.0)</th>\n",
       "    </tr>\n",
       "  </thead>\n",
       "  <tbody>\n",
       "    <tr>\n",
       "      <th>0</th>\n",
       "      <td>6.753438</td>\n",
       "      <td>854</td>\n",
       "      <td>0</td>\n",
       "      <td>3</td>\n",
       "      <td>0</td>\n",
       "      <td>4</td>\n",
       "      <td>6</td>\n",
       "      <td>2</td>\n",
       "      <td>2</td>\n",
       "      <td>7.444249</td>\n",
       "      <td>...</td>\n",
       "      <td>0</td>\n",
       "      <td>0</td>\n",
       "      <td>0</td>\n",
       "      <td>0</td>\n",
       "      <td>0</td>\n",
       "      <td>0</td>\n",
       "      <td>0</td>\n",
       "      <td>0</td>\n",
       "      <td>0</td>\n",
       "      <td>0</td>\n",
       "    </tr>\n",
       "    <tr>\n",
       "      <th>1</th>\n",
       "      <td>7.141245</td>\n",
       "      <td>0</td>\n",
       "      <td>0</td>\n",
       "      <td>3</td>\n",
       "      <td>0</td>\n",
       "      <td>3</td>\n",
       "      <td>3</td>\n",
       "      <td>2</td>\n",
       "      <td>2</td>\n",
       "      <td>7.140453</td>\n",
       "      <td>...</td>\n",
       "      <td>0</td>\n",
       "      <td>0</td>\n",
       "      <td>0</td>\n",
       "      <td>1</td>\n",
       "      <td>0</td>\n",
       "      <td>0</td>\n",
       "      <td>0</td>\n",
       "      <td>0</td>\n",
       "      <td>0</td>\n",
       "      <td>0</td>\n",
       "    </tr>\n",
       "    <tr>\n",
       "      <th>2</th>\n",
       "      <td>6.825460</td>\n",
       "      <td>866</td>\n",
       "      <td>0</td>\n",
       "      <td>3</td>\n",
       "      <td>0</td>\n",
       "      <td>4</td>\n",
       "      <td>6</td>\n",
       "      <td>2</td>\n",
       "      <td>2</td>\n",
       "      <td>7.487734</td>\n",
       "      <td>...</td>\n",
       "      <td>0</td>\n",
       "      <td>0</td>\n",
       "      <td>0</td>\n",
       "      <td>0</td>\n",
       "      <td>0</td>\n",
       "      <td>0</td>\n",
       "      <td>0</td>\n",
       "      <td>0</td>\n",
       "      <td>0</td>\n",
       "      <td>0</td>\n",
       "    </tr>\n",
       "    <tr>\n",
       "      <th>3</th>\n",
       "      <td>6.869014</td>\n",
       "      <td>756</td>\n",
       "      <td>0</td>\n",
       "      <td>3</td>\n",
       "      <td>272</td>\n",
       "      <td>3</td>\n",
       "      <td>2</td>\n",
       "      <td>1</td>\n",
       "      <td>3</td>\n",
       "      <td>7.448334</td>\n",
       "      <td>...</td>\n",
       "      <td>0</td>\n",
       "      <td>0</td>\n",
       "      <td>0</td>\n",
       "      <td>0</td>\n",
       "      <td>1</td>\n",
       "      <td>0</td>\n",
       "      <td>0</td>\n",
       "      <td>0</td>\n",
       "      <td>0</td>\n",
       "      <td>0</td>\n",
       "    </tr>\n",
       "    <tr>\n",
       "      <th>4</th>\n",
       "      <td>7.044033</td>\n",
       "      <td>1053</td>\n",
       "      <td>0</td>\n",
       "      <td>4</td>\n",
       "      <td>0</td>\n",
       "      <td>4</td>\n",
       "      <td>6</td>\n",
       "      <td>2</td>\n",
       "      <td>3</td>\n",
       "      <td>7.695303</td>\n",
       "      <td>...</td>\n",
       "      <td>0</td>\n",
       "      <td>0</td>\n",
       "      <td>0</td>\n",
       "      <td>0</td>\n",
       "      <td>0</td>\n",
       "      <td>0</td>\n",
       "      <td>0</td>\n",
       "      <td>0</td>\n",
       "      <td>0</td>\n",
       "      <td>0</td>\n",
       "    </tr>\n",
       "  </tbody>\n",
       "</table>\n",
       "<p>5 rows × 243 columns</p>\n",
       "</div>"
      ],
      "text/plain": [
       "   1stFlrSF  2ndFlrSF  3SsnPorch  BedroomAbvGr  EnclosedPorch  ExterQual  \\\n",
       "0  6.753438       854          0             3              0          4   \n",
       "1  7.141245         0          0             3              0          3   \n",
       "2  6.825460       866          0             3              0          4   \n",
       "3  6.869014       756          0             3            272          3   \n",
       "4  7.044033      1053          0             4              0          4   \n",
       "\n",
       "   Foundation  FullBath  GarageCars  GrLivArea  ...  \\\n",
       "0           6         2           2   7.444249  ...   \n",
       "1           3         2           2   7.140453  ...   \n",
       "2           6         2           2   7.487734  ...   \n",
       "3           2         1           3   7.448334  ...   \n",
       "4           6         2           3   7.695303  ...   \n",
       "\n",
       "   Remod_age_class_(17.143, 21.429)  Remod_age_class_(21.429, 25.714)  \\\n",
       "0                                 0                                 0   \n",
       "1                                 0                                 0   \n",
       "2                                 0                                 0   \n",
       "3                                 0                                 0   \n",
       "4                                 0                                 0   \n",
       "\n",
       "   Remod_age_class_(25.714, 30.0)  Remod_age_class_(30.0, 34.286)  \\\n",
       "0                               0                               0   \n",
       "1                               0                               1   \n",
       "2                               0                               0   \n",
       "3                               0                               0   \n",
       "4                               0                               0   \n",
       "\n",
       "   Remod_age_class_(34.286, 38.571)  Remod_age_class_(38.571, 42.857)  \\\n",
       "0                                 0                                 0   \n",
       "1                                 0                                 0   \n",
       "2                                 0                                 0   \n",
       "3                                 1                                 0   \n",
       "4                                 0                                 0   \n",
       "\n",
       "   Remod_age_class_(42.857, 47.143)  Remod_age_class_(47.143, 51.429)  \\\n",
       "0                                 0                                 0   \n",
       "1                                 0                                 0   \n",
       "2                                 0                                 0   \n",
       "3                                 0                                 0   \n",
       "4                                 0                                 0   \n",
       "\n",
       "   Remod_age_class_(51.429, 55.714)  Remod_age_class_(55.714, 60.0)  \n",
       "0                                 0                               0  \n",
       "1                                 0                               0  \n",
       "2                                 0                               0  \n",
       "3                                 0                               0  \n",
       "4                                 0                               0  \n",
       "\n",
       "[5 rows x 243 columns]"
      ]
     },
     "execution_count": 172,
     "metadata": {},
     "output_type": "execute_result"
    }
   ],
   "source": [
    "train_data = pd.read_csv('train_one_hot_modified.csv')\n",
    "train_data.drop(columns=['Unnamed: 0'], inplace=True)\n",
    "train_data.drop(columns=['Id'], inplace=True)\n",
    "train_data.head()"
   ]
  },
  {
   "cell_type": "code",
   "execution_count": 173,
   "metadata": {},
   "outputs": [],
   "source": [
    "#Seperate the feature and the target\n",
    "# X, y = train_data, train_data.pop('SalePrice')\n",
    "\n",
    "X = train_data.drop(columns=['SalePrice'])\n",
    "y = train_data['SalePrice']"
   ]
  },
  {
   "cell_type": "markdown",
   "metadata": {},
   "source": [
    "### Build all models I want to try"
   ]
  },
  {
   "cell_type": "code",
   "execution_count": 174,
   "metadata": {},
   "outputs": [],
   "source": [
    "# random forest\n",
    "rF = RandomForestRegressor()\n",
    "\n",
    "#Least Square Regression\n",
    "lr = linear_model.LinearRegression()\n",
    "\n",
    "#Ridge Regression\n",
    "rg = linear_model.Ridge()\n",
    "\n",
    "#Lasso Regression\n",
    "ls = linear_model.Lasso()\n",
    "\n",
    "#ElasticNet Regression\n",
    "en = linear_model.ElasticNet()\n",
    "\n",
    "# Gradient Boosting Tree\n",
    "gbt = GradientBoostingRegressor()\n",
    "\n",
    "# XGBoost\n",
    "xgb = XGBRegressor(learning_rate=0.01,n_estimators=3460,\n",
    "                                     max_depth=3, min_child_weight=0,\n",
    "                                     gamma=0, subsample=0.7,\n",
    "                                     colsample_bytree=0.7,\n",
    "                                     objective='reg:linear', nthread=-1,\n",
    "                                     scale_pos_weight=1, seed=27,\n",
    "                                     reg_alpha=0.00006)\n",
    "\n",
    "# SVR\n",
    "svr = SVR()\n",
    "\n",
    "# Kernel Ridge Regressio\n",
    "krr = KernelRidge()"
   ]
  },
  {
   "cell_type": "markdown",
   "metadata": {},
   "source": [
    "## Coss-Validation with different models"
   ]
  },
  {
   "cell_type": "code",
   "execution_count": 175,
   "metadata": {
    "scrolled": true
   },
   "outputs": [
    {
     "name": "stdout",
     "output_type": "stream",
     "text": [
      "model name, MSE_avg, MSE_std\n",
      "random forest, 0.14798, 0.0013\n",
      "Least Square Regression, 99988.42494, 10701636455.0161\n",
      "Ridge Regression, 0.12307, 0.0019\n",
      "Lasso Regression, 0.28471, 0.0072\n",
      "ElasticNet Regression, 0.28058, 0.0078\n",
      "Gradient Boosting Tree, 0.12744, 0.0019\n",
      "SVR, 0.28112, 0.0094\n",
      "Kernel Ridge, 0.12284, 0.0019\n",
      "[01:44:15] WARNING: d:\\build\\xgboost\\xgboost-0.90.git\\src\\objective\\regression_obj.cu:152: reg:linear is now deprecated in favor of reg:squarederror.\n",
      "[01:44:26] WARNING: d:\\build\\xgboost\\xgboost-0.90.git\\src\\objective\\regression_obj.cu:152: reg:linear is now deprecated in favor of reg:squarederror.\n",
      "[01:44:36] WARNING: d:\\build\\xgboost\\xgboost-0.90.git\\src\\objective\\regression_obj.cu:152: reg:linear is now deprecated in favor of reg:squarederror.\n",
      "[01:44:47] WARNING: d:\\build\\xgboost\\xgboost-0.90.git\\src\\objective\\regression_obj.cu:152: reg:linear is now deprecated in favor of reg:squarederror.\n",
      "[01:44:58] WARNING: d:\\build\\xgboost\\xgboost-0.90.git\\src\\objective\\regression_obj.cu:152: reg:linear is now deprecated in favor of reg:squarederror.\n",
      "XGBoost, 0.11939, 0.0020\n"
     ]
    }
   ],
   "source": [
    "models = [rF, lr, rg, ls, en, gbt, svr, krr,xgb]\n",
    "names = ['random forest', 'Least Square Regression', 'Ridge Regression',\n",
    "        'Lasso Regression', 'ElasticNet Regression', 'Gradient Boosting Tree',\n",
    "         'SVR', \"Kernel Ridge\",'XGBoost']\n",
    "\n",
    "print(\"model name, MSE_avg, MSE_std\")\n",
    "for model, name in zip(models, names):\n",
    "    scores = -1*cross_val_score(model, X, y,\n",
    "                           cv =5,\n",
    "                           scoring='neg_mean_squared_error')\n",
    "    print('{}, {:.5f}, {:.4f}'.format(name, sqrt(scores.mean()), scores.std()))\n",
    "    "
   ]
  },
  {
   "cell_type": "markdown",
   "metadata": {},
   "source": [
    "## 5. Hyperparameters Tuning"
   ]
  },
  {
   "cell_type": "code",
   "execution_count": 19,
   "metadata": {},
   "outputs": [],
   "source": [
    "from sklearn.model_selection import GridSearchCV"
   ]
  },
  {
   "cell_type": "markdown",
   "metadata": {},
   "source": [
    "### Tunning Ridge Regression"
   ]
  },
  {
   "cell_type": "code",
   "execution_count": 27,
   "metadata": {
    "scrolled": true
   },
   "outputs": [
    {
     "name": "stdout",
     "output_type": "stream",
     "text": [
      "Best parameter of Ridge is: {'alpha': 0.07}\n",
      "Best score of cv is: 0.121528\n"
     ]
    }
   ],
   "source": [
    "rg = linear_model.Ridge(alpha=0.07)\n",
    "param = {'alpha':[0.05,0.06,0.07,0.08,0.09, 0.1]}\n",
    "grid_rg = GridSearchCV(estimator=rg, param_grid=param, scoring='neg_mean_squared_error', cv=5)\n",
    "grid_rg.fit(X, y)\n",
    "\n",
    "print('Best parameter of Ridge is:', grid_rg.best_params_)\n",
    "print('Best score of cv is: {:.6f}'.format(sqrt(-grid_rg.best_score_))) "
   ]
  },
  {
   "cell_type": "markdown",
   "metadata": {},
   "source": [
    "### Tunning Lasso Regression"
   ]
  },
  {
   "cell_type": "code",
   "execution_count": 41,
   "metadata": {},
   "outputs": [
    {
     "name": "stdout",
     "output_type": "stream",
     "text": [
      "Best parameter of Ridge is: {'alpha': 0.0002}\n",
      "Best score of cv is: 0.119834\n"
     ]
    }
   ],
   "source": [
    "ls = linear_model.Lasso(alpha=0.0002)\n",
    "param = {'alpha':[0.0001,0.0002,0.0003,0.0004,0.0005]}\n",
    "\n",
    "grid = GridSearchCV(estimator=ls, param_grid=param, scoring='neg_mean_squared_error', cv=5)\n",
    "grid.fit(X, y)\n",
    "\n",
    "print('Best parameter of Ridge is:', grid.best_params_)\n",
    "print('Best score of cv is: {:.6f}'.format(sqrt(-grid.best_score_))) "
   ]
  },
  {
   "cell_type": "markdown",
   "metadata": {},
   "source": [
    "### Tunning ElasticNet Regression"
   ]
  },
  {
   "cell_type": "code",
   "execution_count": 112,
   "metadata": {},
   "outputs": [
    {
     "name": "stdout",
     "output_type": "stream",
     "text": [
      "Best parameter of SVR is: {'alpha': 0.0003, 'l1_ratio': 0.9}\n",
      "Best score of cv is: 0.119856\n"
     ]
    }
   ],
   "source": [
    "#ElasticNet Regression\n",
    "en = linear_model.ElasticNet(alpha=0.0003,l1_ratio=0.9)\n",
    "en_param = {'alpha':[0.0001,0.0002,0.0003,0.0004,0.0005],\n",
    "               'l1_ratio':[0.5,0.6,0.7,0.8,0.9]}\n",
    "\n",
    "grid_en = GridSearchCV(estimator=en, param_grid=en_param, scoring='neg_mean_squared_error', cv=5)\n",
    "grid_en.fit(X,y)\n",
    "\n",
    "print('Best parameter of SVR is:', grid_en.best_params_)\n",
    "print('Best score of cv is: {:.6f}'.format(sqrt(-grid_en.best_score_)))"
   ]
  },
  {
   "cell_type": "markdown",
   "metadata": {},
   "source": [
    "### Tunning Gradient Boosting Tree"
   ]
  },
  {
   "cell_type": "code",
   "execution_count": 57,
   "metadata": {},
   "outputs": [
    {
     "name": "stdout",
     "output_type": "stream",
     "text": [
      "Best parameter of Ridge is: {'alpha': 0.8}\n",
      "Best score of cv is: 0.1260\n"
     ]
    }
   ],
   "source": [
    "# Gradient Boosting Tree\n",
    "gbt = GradientBoostingRegressor(n_estimators=180,learning_rate=0.08,alpha=0.8)\n",
    "gbt_param = {'alpha':[0.8,0.9]} \n",
    "# 'learning_rate':[0.0001, 0.001, 0.01, 0.1, 1, 10],'n_estimators':[100, 200, 300, 500, 700], 'alpha':[0.3,0.6,0.9]\n",
    "\n",
    "grid_gbt = GridSearchCV(estimator=gbt, param_grid=gbt_param, scoring='neg_mean_squared_error', cv=5)\n",
    "grid_gbt.fit(X, y)\n",
    "\n",
    "print('Best parameter of Ridge is:', grid_gbt.best_params_)\n",
    "print('Best score of cv is: {:.4f}'.format(sqrt(-grid_gbt.best_score_)))\n"
   ]
  },
  {
   "cell_type": "markdown",
   "metadata": {},
   "source": [
    "### Tunning SVR"
   ]
  },
  {
   "cell_type": "code",
   "execution_count": 118,
   "metadata": {},
   "outputs": [
    {
     "name": "stdout",
     "output_type": "stream",
     "text": [
      "Best parameter of SVR is: {'epsilon': 0.001}\n",
      "Best score of cv is: 0.2197\n"
     ]
    }
   ],
   "source": [
    "# SVR\n",
    "svr = SVR(C=1.0, gamma=0.001, epsilon=0.001)\n",
    "svr_param = {'epsilon':[0.001,0.01,0.1]}\n",
    "# 'C':[1e0, 1e1, 1e2, 1e3],'gamma':[0.00001,0.0001,0.001,0.01,0.1],'epsilon':[0.001,0.01,0.1]\n",
    "\n",
    "grid_svr = GridSearchCV(estimator=svr, param_grid=svr_param, scoring='neg_mean_squared_error', cv=5)\n",
    "grid_svr.fit(X,y)\n",
    "print('Best parameter of SVR is:', grid_svr.best_params_)\n",
    "print('Best score of cv is: {:.4f}'.format(sqrt(-grid_svr.best_score_)))\n",
    "\n",
    "# Best parameter of Ridge is: {'C': 1.0, 'epsilon': 0.001, 'gamma': 0.001}"
   ]
  },
  {
   "cell_type": "markdown",
   "metadata": {},
   "source": [
    "### Tunning XGBoost"
   ]
  },
  {
   "cell_type": "code",
   "execution_count": 66,
   "metadata": {
    "scrolled": false
   },
   "outputs": [
    {
     "name": "stdout",
     "output_type": "stream",
     "text": [
      "[00:26:09] WARNING: d:\\build\\xgboost\\xgboost-0.90.git\\src\\objective\\regression_obj.cu:152: reg:linear is now deprecated in favor of reg:squarederror.\n",
      "[00:26:10] WARNING: d:\\build\\xgboost\\xgboost-0.90.git\\src\\objective\\regression_obj.cu:152: reg:linear is now deprecated in favor of reg:squarederror.\n",
      "[00:26:10] WARNING: d:\\build\\xgboost\\xgboost-0.90.git\\src\\objective\\regression_obj.cu:152: reg:linear is now deprecated in favor of reg:squarederror.\n",
      "[00:26:10] WARNING: d:\\build\\xgboost\\xgboost-0.90.git\\src\\objective\\regression_obj.cu:152: reg:linear is now deprecated in favor of reg:squarederror.\n",
      "[00:26:10] WARNING: d:\\build\\xgboost\\xgboost-0.90.git\\src\\objective\\regression_obj.cu:152: reg:linear is now deprecated in favor of reg:squarederror.\n",
      "[00:26:10] WARNING: d:\\build\\xgboost\\xgboost-0.90.git\\src\\objective\\regression_obj.cu:152: reg:linear is now deprecated in favor of reg:squarederror.\n",
      "[00:26:11] WARNING: d:\\build\\xgboost\\xgboost-0.90.git\\src\\objective\\regression_obj.cu:152: reg:linear is now deprecated in favor of reg:squarederror.\n",
      "[00:26:12] WARNING: d:\\build\\xgboost\\xgboost-0.90.git\\src\\objective\\regression_obj.cu:152: reg:linear is now deprecated in favor of reg:squarederror.\n",
      "[00:26:13] WARNING: d:\\build\\xgboost\\xgboost-0.90.git\\src\\objective\\regression_obj.cu:152: reg:linear is now deprecated in favor of reg:squarederror.\n",
      "[00:26:13] WARNING: d:\\build\\xgboost\\xgboost-0.90.git\\src\\objective\\regression_obj.cu:152: reg:linear is now deprecated in favor of reg:squarederror.\n",
      "[00:26:14] WARNING: d:\\build\\xgboost\\xgboost-0.90.git\\src\\objective\\regression_obj.cu:152: reg:linear is now deprecated in favor of reg:squarederror.\n",
      "[00:26:16] WARNING: d:\\build\\xgboost\\xgboost-0.90.git\\src\\objective\\regression_obj.cu:152: reg:linear is now deprecated in favor of reg:squarederror.\n",
      "[00:26:18] WARNING: d:\\build\\xgboost\\xgboost-0.90.git\\src\\objective\\regression_obj.cu:152: reg:linear is now deprecated in favor of reg:squarederror.\n",
      "[00:26:20] WARNING: d:\\build\\xgboost\\xgboost-0.90.git\\src\\objective\\regression_obj.cu:152: reg:linear is now deprecated in favor of reg:squarederror.\n",
      "[00:26:22] WARNING: d:\\build\\xgboost\\xgboost-0.90.git\\src\\objective\\regression_obj.cu:152: reg:linear is now deprecated in favor of reg:squarederror.\n",
      "[00:26:23] WARNING: d:\\build\\xgboost\\xgboost-0.90.git\\src\\objective\\regression_obj.cu:152: reg:linear is now deprecated in favor of reg:squarederror.\n",
      "Best parameter of SVR is: {'n_estimators': 1000}\n",
      "Best score of cv is: 0.1253\n"
     ]
    }
   ],
   "source": [
    "# XGBoost\n",
    "xgb = XGBRegressor(learning_rate=0.01,n_estimators=3460,\n",
    "                                     max_depth=3, min_child_weight=0,\n",
    "                                     gamma=0, subsample=0.7,\n",
    "                                     colsample_bytree=0.7,\n",
    "                                     objective='reg:linear', nthread=-1,\n",
    "                                     scale_pos_weight=1, seed=27,\n",
    "                                     reg_alpha=0.00006)\n",
    "param = {'n_estimators':[1000]}\n",
    "grid = GridSearchCV(estimator=xgb, param_grid=param, scoring='neg_mean_squared_error', cv=5)\n",
    "grid.fit(X,y)\n",
    "print('Best parameter of SVR is:', grid.best_params_)\n",
    "print('Best score of cv is: {:.4f}'.format(sqrt(-grid.best_score_)))"
   ]
  },
  {
   "cell_type": "markdown",
   "metadata": {},
   "source": [
    "### Tunning Kernel Ridge"
   ]
  },
  {
   "cell_type": "code",
   "execution_count": 81,
   "metadata": {},
   "outputs": [
    {
     "name": "stdout",
     "output_type": "stream",
     "text": [
      "Best parameter of Ridge is: {'alpha': 0.07}\n",
      "Best score of cv is: 0.121293\n"
     ]
    }
   ],
   "source": [
    "# Kernel Ridge Regressior\n",
    "krr = KernelRidge(alpha=0.07)\n",
    "param = {'alpha':[0.05,0.06,0.07,0.08,0.09,0.1]}\n",
    "\n",
    "grid = GridSearchCV(estimator=krr, param_grid=param, scoring='neg_mean_squared_error', cv=5)\n",
    "grid.fit(X, y)\n",
    "\n",
    "print('Best parameter of Ridge is:', grid.best_params_)\n",
    "print('Best score of cv is: {:.6f}'.format(sqrt(-grid.best_score_))) "
   ]
  },
  {
   "cell_type": "code",
   "execution_count": null,
   "metadata": {},
   "outputs": [],
   "source": []
  },
  {
   "cell_type": "markdown",
   "metadata": {},
   "source": [
    "## 6. Ensemble Methods"
   ]
  },
  {
   "cell_type": "code",
   "execution_count": 47,
   "metadata": {},
   "outputs": [
    {
     "data": {
      "text/plain": [
       "5"
      ]
     },
     "execution_count": 47,
     "metadata": {},
     "output_type": "execute_result"
    }
   ],
   "source": [
    "len(list(kf.split(X)))"
   ]
  },
  {
   "cell_type": "code",
   "execution_count": 50,
   "metadata": {},
   "outputs": [
    {
     "data": {
      "text/plain": [
       "array([  0,   1,   2,   3,   4,   5,   6,   7,   8,   9,  10,  11,  12,\n",
       "        13,  14,  15,  16,  17,  18,  19,  20,  21,  22,  23,  24,  25,\n",
       "        26,  27,  28,  29,  30,  31,  32,  33,  34,  35,  36,  37,  38,\n",
       "        39,  40,  41,  42,  43,  44,  45,  46,  47,  48,  49,  50,  51,\n",
       "        52,  53,  54,  55,  56,  57,  58,  59,  60,  61,  62,  63,  64,\n",
       "        65,  66,  67,  68,  69,  70,  71,  72,  73,  74,  75,  76,  77,\n",
       "        78,  79,  80,  81,  82,  83,  84,  85,  86,  87,  88,  89,  90,\n",
       "        91,  92,  93,  94,  95,  96,  97,  98,  99, 100, 101, 102, 103,\n",
       "       104, 105, 106, 107, 108, 109, 110, 111, 112, 113, 114, 115, 116,\n",
       "       117, 118, 119, 120, 121, 122, 123, 124, 125, 126, 127, 128, 129,\n",
       "       130, 131, 132, 133, 134, 135, 136, 137, 138, 139, 140, 141, 142,\n",
       "       143, 144, 145, 146, 147, 148, 149, 150, 151, 152, 153, 154, 155,\n",
       "       156, 157, 158, 159, 160, 161, 162, 163, 164, 165, 166, 167, 168,\n",
       "       169, 170, 171, 172, 173, 174, 175, 176, 177, 178, 179, 180, 181,\n",
       "       182, 183, 184, 185, 186, 187, 188, 189, 190, 191, 192, 193, 194,\n",
       "       195, 196, 197, 198, 199, 200, 201, 202, 203, 204, 205, 206, 207,\n",
       "       208, 209, 210, 211, 212, 213, 214, 215, 216, 217, 218, 219, 220,\n",
       "       221, 222, 223, 224, 225, 226, 227, 228, 229, 230, 231, 232, 233,\n",
       "       234, 235, 236, 237, 238, 239, 240, 241, 242, 243, 244, 245, 246,\n",
       "       247, 248, 249, 250, 251, 252, 253, 254, 255, 256, 257, 258, 259,\n",
       "       260, 261, 262, 263, 264, 265, 266, 267, 268, 269, 270, 271, 272,\n",
       "       273, 274, 275, 276, 277, 278, 279, 280, 281, 282, 283, 284, 285,\n",
       "       286, 287, 288, 289, 290, 291])"
      ]
     },
     "execution_count": 50,
     "metadata": {},
     "output_type": "execute_result"
    }
   ],
   "source": [
    "list(kf.split(X))[0][1]"
   ]
  },
  {
   "cell_type": "code",
   "execution_count": 75,
   "metadata": {},
   "outputs": [],
   "source": [
    "# Cross-validation\n",
    "from sklearn.model_selection import KFold\n",
    "\n",
    "def kfold_cv(model):\n",
    "    kf = KFold(n_splits=5, shuffle=True, random_state=42)\n",
    "\n",
    "    val_preds = []\n",
    "    val_idxs = []\n",
    "    maes = []\n",
    "    for train_idx, val_idx in kf.split(X):\n",
    "\n",
    "        train_set_X, train_set_y = X.values[train_idx], y.values[train_idx]\n",
    "        val_set_X, val_set_y = X.values[val_idx], y.values[val_idx]\n",
    "\n",
    "        model.fit(train_set_X, train_set_y)\n",
    "        val_set_y_preds = model.predict(val_set_X)\n",
    "\n",
    "        mae = sqrt(mean_squared_error(val_set_y_preds, val_set_y))\n",
    "        maes.append(mae)\n",
    "        print('\\t MSE = {:.4f}'.format(mae))\n",
    "        \n",
    "        val_preds.append(val_set_y_preds)\n",
    "        val_idxs.append(val_idx)\n",
    "        \n",
    "    oof_preds = np.concatenate(val_preds)\n",
    "    oof_y = y.values[np.concatenate(val_idxs)]\n",
    "    print('\\toof MSE = {:.4f}'.format(sqrt(mean_squared_error(oof_preds, oof_y))))    \n",
    "    \n",
    "    print('\\tavg MSE = {:.4f}'.format(np.mean(maes)))\n",
    "    \n",
    "    return oof_preds, oof_y, val_idxs"
   ]
  },
  {
   "cell_type": "code",
   "execution_count": 86,
   "metadata": {
    "scrolled": true
   },
   "outputs": [
    {
     "name": "stdout",
     "output_type": "stream",
     "text": [
      "\t MSE = 0.1174\n",
      "\t MSE = 0.1145\n",
      "\t MSE = 0.1347\n",
      "\t MSE = 0.1278\n",
      "\t MSE = 0.1087\n",
      "\toof MSE = 0.1210\n",
      "\tavg MSE = 0.1206\n"
     ]
    }
   ],
   "source": [
    "ls = linear_model.Lasso(alpha=0.0002)\n",
    "ls_oof_preds, oof_y, val_idxs = kfold_cv(ls)"
   ]
  },
  {
   "cell_type": "code",
   "execution_count": 83,
   "metadata": {},
   "outputs": [
    {
     "name": "stdout",
     "output_type": "stream",
     "text": [
      "\t MSE = 0.1172\n",
      "\t MSE = 0.1146\n",
      "\t MSE = 0.1354\n",
      "\t MSE = 0.1275\n",
      "\t MSE = 0.1087\n",
      "\toof MSE = 0.1211\n",
      "\tavg MSE = 0.1207\n"
     ]
    }
   ],
   "source": [
    "en = linear_model.ElasticNet(alpha=0.0003,l1_ratio=0.9)\n",
    "en_oof_preds, oof_y, val_idxs = kfold_cv(en)"
   ]
  },
  {
   "cell_type": "code",
   "execution_count": 114,
   "metadata": {},
   "outputs": [
    {
     "name": "stdout",
     "output_type": "stream",
     "text": [
      "\t MSE = 0.1216\n",
      "\t MSE = 0.1159\n",
      "\t MSE = 0.1339\n",
      "\t MSE = 0.1324\n",
      "\t MSE = 0.1115\n",
      "\toof MSE = 0.1234\n",
      "\tavg MSE = 0.1231\n"
     ]
    }
   ],
   "source": [
    "krr = KernelRidge(alpha=0.07)\n",
    "Krr_oof_preds, oof_y, val_idxs = kfold_cv(krr)"
   ]
  },
  {
   "cell_type": "code",
   "execution_count": 110,
   "metadata": {
    "scrolled": true
   },
   "outputs": [
    {
     "name": "stdout",
     "output_type": "stream",
     "text": [
      "\t MSE = 0.1244\n",
      "\t MSE = 0.1246\n",
      "\t MSE = 0.1370\n",
      "\t MSE = 0.1380\n",
      "\t MSE = 0.1165\n",
      "\toof MSE = 0.1284\n",
      "\tavg MSE = 0.1281\n"
     ]
    }
   ],
   "source": [
    "gbt = GradientBoostingRegressor(n_estimators=180,learning_rate=0.08,alpha=0.8)\n",
    "gbt_oof_preds, oof_y, val_idxs = kfold_cv(gbt)"
   ]
  },
  {
   "cell_type": "code",
   "execution_count": 148,
   "metadata": {},
   "outputs": [
    {
     "name": "stdout",
     "output_type": "stream",
     "text": [
      "[01:17:52] WARNING: d:\\build\\xgboost\\xgboost-0.90.git\\src\\objective\\regression_obj.cu:152: reg:linear is now deprecated in favor of reg:squarederror.\n",
      "\t MSE = 0.1205\n",
      "[01:17:58] WARNING: d:\\build\\xgboost\\xgboost-0.90.git\\src\\objective\\regression_obj.cu:152: reg:linear is now deprecated in favor of reg:squarederror.\n",
      "\t MSE = 0.1152\n",
      "[01:18:07] WARNING: d:\\build\\xgboost\\xgboost-0.90.git\\src\\objective\\regression_obj.cu:152: reg:linear is now deprecated in favor of reg:squarederror.\n",
      "\t MSE = 0.1337\n",
      "[01:18:14] WARNING: d:\\build\\xgboost\\xgboost-0.90.git\\src\\objective\\regression_obj.cu:152: reg:linear is now deprecated in favor of reg:squarederror.\n",
      "\t MSE = 0.1336\n",
      "[01:18:20] WARNING: d:\\build\\xgboost\\xgboost-0.90.git\\src\\objective\\regression_obj.cu:152: reg:linear is now deprecated in favor of reg:squarederror.\n",
      "\t MSE = 0.1144\n",
      "\toof MSE = 0.1238\n",
      "\tavg MSE = 0.1235\n"
     ]
    }
   ],
   "source": [
    "xgb = XGBRegressor(learning_rate=0.01,n_estimators=3460,\n",
    "                                     max_depth=3, min_child_weight=0,\n",
    "                                     gamma=0, subsample=0.7,\n",
    "                                     colsample_bytree=0.7,\n",
    "                                     objective='reg:linear', nthread=-1,\n",
    "                                     scale_pos_weight=1, seed=27,\n",
    "                                     reg_alpha=0.00006)\n",
    "xgb_oof_preds, oof_y, val_idxs = kfold_cv(xgb)"
   ]
  },
  {
   "cell_type": "code",
   "execution_count": 161,
   "metadata": {},
   "outputs": [
    {
     "name": "stdout",
     "output_type": "stream",
     "text": [
      "\tEnsemble results\n",
      "\toof MSE = 0.11854\n"
     ]
    }
   ],
   "source": [
    "# Ensumble( with general method)\n",
    "print('\\tEnsemble results')\n",
    "mix_preds = np.mean([ls_oof_preds, en_oof_preds,gbt_oof_preds], axis=0) \n",
    "mix_preds = ls_oof_preds*0.5 + en_oof_preds*0.2 + gbt_oof_preds*0.3 #oof MSE = 0.11910\n",
    "mix_preds = ls_oof_preds*0.7 + en_oof_preds*0 + gbt_oof_preds*0.3 #oof MSE = 0.11908\n",
    "\n",
    "mix_preds = np.mean([ls_oof_preds, en_oof_preds,gbt_oof_preds,xgb_oof_preds], axis=0) #oof MSE = 0.11880\n",
    "mix_preds = np.mean([ls_oof_preds, en_oof_preds,xgb_oof_preds], axis=0) #oof MSE = 0.11858\n",
    "mix_preds = ls_oof_preds*0.35 + en_oof_preds*0.3 + xgb_oof_preds*0.35\n",
    "print('\\toof MSE = {:.5f}'.format(sqrt(mean_squared_error(mix_preds, oof_y))))"
   ]
  },
  {
   "cell_type": "markdown",
   "metadata": {},
   "source": [
    "## Predicting from test data"
   ]
  },
  {
   "cell_type": "code",
   "execution_count": 176,
   "metadata": {
    "scrolled": true
   },
   "outputs": [
    {
     "data": {
      "text/html": [
       "<div>\n",
       "<style scoped>\n",
       "    .dataframe tbody tr th:only-of-type {\n",
       "        vertical-align: middle;\n",
       "    }\n",
       "\n",
       "    .dataframe tbody tr th {\n",
       "        vertical-align: top;\n",
       "    }\n",
       "\n",
       "    .dataframe thead th {\n",
       "        text-align: right;\n",
       "    }\n",
       "</style>\n",
       "<table border=\"1\" class=\"dataframe\">\n",
       "  <thead>\n",
       "    <tr style=\"text-align: right;\">\n",
       "      <th></th>\n",
       "      <th>1stFlrSF</th>\n",
       "      <th>2ndFlrSF</th>\n",
       "      <th>3SsnPorch</th>\n",
       "      <th>BedroomAbvGr</th>\n",
       "      <th>EnclosedPorch</th>\n",
       "      <th>ExterQual</th>\n",
       "      <th>Foundation</th>\n",
       "      <th>FullBath</th>\n",
       "      <th>GarageCars</th>\n",
       "      <th>GrLivArea</th>\n",
       "      <th>...</th>\n",
       "      <th>Remod_age_class_(17.143, 21.429)</th>\n",
       "      <th>Remod_age_class_(21.429, 25.714)</th>\n",
       "      <th>Remod_age_class_(25.714, 30.0)</th>\n",
       "      <th>Remod_age_class_(30.0, 34.286)</th>\n",
       "      <th>Remod_age_class_(34.286, 38.571)</th>\n",
       "      <th>Remod_age_class_(38.571, 42.857)</th>\n",
       "      <th>Remod_age_class_(42.857, 47.143)</th>\n",
       "      <th>Remod_age_class_(47.143, 51.429)</th>\n",
       "      <th>Remod_age_class_(51.429, 55.714)</th>\n",
       "      <th>Remod_age_class_(55.714, 60.0)</th>\n",
       "    </tr>\n",
       "  </thead>\n",
       "  <tbody>\n",
       "    <tr>\n",
       "      <th>0</th>\n",
       "      <td>6.799056</td>\n",
       "      <td>0</td>\n",
       "      <td>0</td>\n",
       "      <td>2</td>\n",
       "      <td>0</td>\n",
       "      <td>3</td>\n",
       "      <td>3</td>\n",
       "      <td>1</td>\n",
       "      <td>1</td>\n",
       "      <td>6.797940</td>\n",
       "      <td>...</td>\n",
       "      <td>0</td>\n",
       "      <td>0</td>\n",
       "      <td>0</td>\n",
       "      <td>0</td>\n",
       "      <td>0</td>\n",
       "      <td>0</td>\n",
       "      <td>0</td>\n",
       "      <td>1</td>\n",
       "      <td>0</td>\n",
       "      <td>0</td>\n",
       "    </tr>\n",
       "    <tr>\n",
       "      <th>1</th>\n",
       "      <td>7.192934</td>\n",
       "      <td>0</td>\n",
       "      <td>0</td>\n",
       "      <td>3</td>\n",
       "      <td>0</td>\n",
       "      <td>3</td>\n",
       "      <td>3</td>\n",
       "      <td>1</td>\n",
       "      <td>1</td>\n",
       "      <td>7.192182</td>\n",
       "      <td>...</td>\n",
       "      <td>0</td>\n",
       "      <td>0</td>\n",
       "      <td>0</td>\n",
       "      <td>0</td>\n",
       "      <td>0</td>\n",
       "      <td>0</td>\n",
       "      <td>0</td>\n",
       "      <td>0</td>\n",
       "      <td>1</td>\n",
       "      <td>0</td>\n",
       "    </tr>\n",
       "    <tr>\n",
       "      <th>2</th>\n",
       "      <td>6.834109</td>\n",
       "      <td>701</td>\n",
       "      <td>0</td>\n",
       "      <td>3</td>\n",
       "      <td>0</td>\n",
       "      <td>3</td>\n",
       "      <td>6</td>\n",
       "      <td>2</td>\n",
       "      <td>2</td>\n",
       "      <td>7.395722</td>\n",
       "      <td>...</td>\n",
       "      <td>0</td>\n",
       "      <td>0</td>\n",
       "      <td>0</td>\n",
       "      <td>0</td>\n",
       "      <td>0</td>\n",
       "      <td>0</td>\n",
       "      <td>0</td>\n",
       "      <td>0</td>\n",
       "      <td>0</td>\n",
       "      <td>0</td>\n",
       "    </tr>\n",
       "    <tr>\n",
       "      <th>3</th>\n",
       "      <td>6.831954</td>\n",
       "      <td>678</td>\n",
       "      <td>0</td>\n",
       "      <td>3</td>\n",
       "      <td>0</td>\n",
       "      <td>3</td>\n",
       "      <td>6</td>\n",
       "      <td>2</td>\n",
       "      <td>2</td>\n",
       "      <td>7.380256</td>\n",
       "      <td>...</td>\n",
       "      <td>0</td>\n",
       "      <td>0</td>\n",
       "      <td>0</td>\n",
       "      <td>0</td>\n",
       "      <td>0</td>\n",
       "      <td>0</td>\n",
       "      <td>0</td>\n",
       "      <td>0</td>\n",
       "      <td>0</td>\n",
       "      <td>0</td>\n",
       "    </tr>\n",
       "    <tr>\n",
       "      <th>4</th>\n",
       "      <td>7.155396</td>\n",
       "      <td>0</td>\n",
       "      <td>0</td>\n",
       "      <td>2</td>\n",
       "      <td>0</td>\n",
       "      <td>4</td>\n",
       "      <td>6</td>\n",
       "      <td>2</td>\n",
       "      <td>2</td>\n",
       "      <td>7.154615</td>\n",
       "      <td>...</td>\n",
       "      <td>1</td>\n",
       "      <td>0</td>\n",
       "      <td>0</td>\n",
       "      <td>0</td>\n",
       "      <td>0</td>\n",
       "      <td>0</td>\n",
       "      <td>0</td>\n",
       "      <td>0</td>\n",
       "      <td>0</td>\n",
       "      <td>0</td>\n",
       "    </tr>\n",
       "  </tbody>\n",
       "</table>\n",
       "<p>5 rows × 242 columns</p>\n",
       "</div>"
      ],
      "text/plain": [
       "   1stFlrSF  2ndFlrSF  3SsnPorch  BedroomAbvGr  EnclosedPorch  ExterQual  \\\n",
       "0  6.799056         0          0             2              0          3   \n",
       "1  7.192934         0          0             3              0          3   \n",
       "2  6.834109       701          0             3              0          3   \n",
       "3  6.831954       678          0             3              0          3   \n",
       "4  7.155396         0          0             2              0          4   \n",
       "\n",
       "   Foundation  FullBath  GarageCars  GrLivArea  ...  \\\n",
       "0           3         1           1   6.797940  ...   \n",
       "1           3         1           1   7.192182  ...   \n",
       "2           6         2           2   7.395722  ...   \n",
       "3           6         2           2   7.380256  ...   \n",
       "4           6         2           2   7.154615  ...   \n",
       "\n",
       "   Remod_age_class_(17.143, 21.429)  Remod_age_class_(21.429, 25.714)  \\\n",
       "0                                 0                                 0   \n",
       "1                                 0                                 0   \n",
       "2                                 0                                 0   \n",
       "3                                 0                                 0   \n",
       "4                                 1                                 0   \n",
       "\n",
       "   Remod_age_class_(25.714, 30.0)  Remod_age_class_(30.0, 34.286)  \\\n",
       "0                               0                               0   \n",
       "1                               0                               0   \n",
       "2                               0                               0   \n",
       "3                               0                               0   \n",
       "4                               0                               0   \n",
       "\n",
       "   Remod_age_class_(34.286, 38.571)  Remod_age_class_(38.571, 42.857)  \\\n",
       "0                                 0                                 0   \n",
       "1                                 0                                 0   \n",
       "2                                 0                                 0   \n",
       "3                                 0                                 0   \n",
       "4                                 0                                 0   \n",
       "\n",
       "   Remod_age_class_(42.857, 47.143)  Remod_age_class_(47.143, 51.429)  \\\n",
       "0                                 0                                 1   \n",
       "1                                 0                                 0   \n",
       "2                                 0                                 0   \n",
       "3                                 0                                 0   \n",
       "4                                 0                                 0   \n",
       "\n",
       "   Remod_age_class_(51.429, 55.714)  Remod_age_class_(55.714, 60.0)  \n",
       "0                                 0                               0  \n",
       "1                                 1                               0  \n",
       "2                                 0                               0  \n",
       "3                                 0                               0  \n",
       "4                                 0                               0  \n",
       "\n",
       "[5 rows x 242 columns]"
      ]
     },
     "execution_count": 176,
     "metadata": {},
     "output_type": "execute_result"
    }
   ],
   "source": [
    "test_data = pd.read_csv('test_one_hot_modified.csv')\n",
    "test_id = test_data['Id']\n",
    "test_data.drop(columns=['Unnamed: 0','Id'], inplace=True)\n",
    "test_data.head()"
   ]
  },
  {
   "cell_type": "code",
   "execution_count": 177,
   "metadata": {},
   "outputs": [],
   "source": [
    "# Cross-validation\n",
    "from sklearn.model_selection import KFold\n",
    "\n",
    "def kfold_cv_ensemble(model):\n",
    "    kf = KFold(n_splits=5, shuffle=True, random_state=42)\n",
    "\n",
    "    test_preds = []\n",
    "    val_preds = []\n",
    "    val_idxs = []\n",
    "    maes = []\n",
    "    for train_idx, val_idx in kf.split(X):\n",
    "\n",
    "        train_set_X, train_set_y = X.values[train_idx], y.values[train_idx]\n",
    "        val_set_X, val_set_y = X.values[val_idx], y.values[val_idx]\n",
    "\n",
    "        model.fit(train_set_X, train_set_y)\n",
    "        val_set_y_preds = model.predict(val_set_X)\n",
    "        test_set_y_preds = model.predict(test_data.values)\n",
    "\n",
    "        mae = sqrt(mean_squared_error(val_set_y_preds, val_set_y))\n",
    "        maes.append(mae)\n",
    "        print('\\t MSE = {:.4f}'.format(mae))\n",
    "        \n",
    "        val_preds.append(val_set_y_preds)\n",
    "        val_idxs.append(val_idx)\n",
    "        test_preds.append(test_set_y_preds)\n",
    "        \n",
    "    oof_preds = np.concatenate(val_preds)\n",
    "    oof_y = y.values[np.concatenate(val_idxs)]\n",
    "    print('\\toof MSE = {:.4f}'.format(sqrt(mean_squared_error(oof_preds, oof_y))))    \n",
    "    \n",
    "    print('\\tavg MSE = {:.4f}'.format(np.mean(maes)))\n",
    "    \n",
    "    return oof_preds, oof_y, val_idxs, np.mean(test_preds, 0)"
   ]
  },
  {
   "cell_type": "code",
   "execution_count": 178,
   "metadata": {},
   "outputs": [
    {
     "name": "stdout",
     "output_type": "stream",
     "text": [
      "\t MSE = 0.1137\n",
      "\t MSE = 0.1182\n",
      "\t MSE = 0.1311\n",
      "\t MSE = 0.1239\n",
      "\t MSE = 0.1080\n",
      "\toof MSE = 0.1193\n",
      "\tavg MSE = 0.1190\n",
      "\n",
      "\t MSE = 0.1141\n",
      "\t MSE = 0.1171\n",
      "\t MSE = 0.1317\n",
      "\t MSE = 0.1230\n",
      "\t MSE = 0.1081\n",
      "\toof MSE = 0.1191\n",
      "\tavg MSE = 0.1188\n",
      "\n",
      "[01:45:45] WARNING: d:\\build\\xgboost\\xgboost-0.90.git\\src\\objective\\regression_obj.cu:152: reg:linear is now deprecated in favor of reg:squarederror.\n",
      "\t MSE = 0.1217\n",
      "[01:45:56] WARNING: d:\\build\\xgboost\\xgboost-0.90.git\\src\\objective\\regression_obj.cu:152: reg:linear is now deprecated in favor of reg:squarederror.\n",
      "\t MSE = 0.1138\n",
      "[01:46:09] WARNING: d:\\build\\xgboost\\xgboost-0.90.git\\src\\objective\\regression_obj.cu:152: reg:linear is now deprecated in favor of reg:squarederror.\n",
      "\t MSE = 0.1294\n",
      "[01:46:19] WARNING: d:\\build\\xgboost\\xgboost-0.90.git\\src\\objective\\regression_obj.cu:152: reg:linear is now deprecated in favor of reg:squarederror.\n",
      "\t MSE = 0.1278\n",
      "[01:46:30] WARNING: d:\\build\\xgboost\\xgboost-0.90.git\\src\\objective\\regression_obj.cu:152: reg:linear is now deprecated in favor of reg:squarederror.\n",
      "\t MSE = 0.1111\n",
      "\toof MSE = 0.1210\n",
      "\tavg MSE = 0.1208\n",
      "\tEnsemble results\n",
      "\toof MSE = 0.1185\n"
     ]
    }
   ],
   "source": [
    "# Ensumble( with general method)\n",
    "ls2 = linear_model.Lasso(alpha=0.0002)\n",
    "ls2_oof_preds, oof_y, val_idxs, ls2_test_preds = kfold_cv_ensemble(ls2)\n",
    "print()\n",
    "\n",
    "en2 = linear_model.ElasticNet(alpha=0.0003,l1_ratio=0.9)\n",
    "en2_oof_preds, oof_y, val_idxs, en2_test_preds = kfold_cv_ensemble(en2)\n",
    "print()\n",
    "\n",
    "xgb2 = XGBRegressor(learning_rate=0.01,n_estimators=3460,\n",
    "                                     max_depth=3, min_child_weight=0,\n",
    "                                     gamma=0, subsample=0.7,\n",
    "                                     colsample_bytree=0.7,\n",
    "                                     objective='reg:linear', nthread=-1,\n",
    "                                     scale_pos_weight=1, seed=27,\n",
    "                                     reg_alpha=0.00006)\n",
    "xgb2_oof_preds, oof_y, val_idxs, xgb2_test_preds = kfold_cv_ensemble(xgb2)\n",
    "\n",
    "print('\\tEnsemble results')\n",
    "# mix_preds = np.mean([rg_preds, gbt_preds], axis=0)\n",
    "mix_val_preds = ls2_oof_preds*0.35 + en2_oof_preds*0.3 + xgb2_oof_preds*0.35\n",
    "print('\\toof MSE = {:.4f}'.format(sqrt(mean_squared_error(mix_preds, oof_y))))\n",
    "\n",
    "mix_test_preds = ls2_test_preds*0.35 + en2_test_preds*0.3 + xgb2_test_preds*0.35"
   ]
  },
  {
   "cell_type": "code",
   "execution_count": 179,
   "metadata": {},
   "outputs": [
    {
     "data": {
      "text/plain": [
       "array([121736.67163776, 157149.20901059, 179173.93110686, ...,\n",
       "       156160.37941423, 121292.1573147 , 225321.40183459])"
      ]
     },
     "execution_count": 179,
     "metadata": {},
     "output_type": "execute_result"
    }
   ],
   "source": [
    "# we had tooken log on Labels before, now we ne turn them back\n",
    "preds_final = np.exp(mix_test_preds)\n",
    "preds_final"
   ]
  },
  {
   "cell_type": "code",
   "execution_count": 180,
   "metadata": {},
   "outputs": [],
   "source": [
    "output = pd.DataFrame({'Id':test_id, \n",
    "                       'SalePrice':preds_final})\n",
    "output.to_csv('submission.csv', index=False)"
   ]
  },
  {
   "cell_type": "code",
   "execution_count": null,
   "metadata": {},
   "outputs": [],
   "source": []
  },
  {
   "cell_type": "markdown",
   "metadata": {},
   "source": [
    "# Final Ranking\n",
    "### 1952 / 4512 = 43% (190703)\n",
    "### 1803 / 4512 = 40% (190704)\n",
    "### 1672 / 4385 = 38% (190717)"
   ]
  },
  {
   "cell_type": "code",
   "execution_count": null,
   "metadata": {},
   "outputs": [],
   "source": []
  },
  {
   "cell_type": "code",
   "execution_count": null,
   "metadata": {},
   "outputs": [],
   "source": []
  }
 ],
 "metadata": {
  "kernelspec": {
   "display_name": "Python 3",
   "language": "python",
   "name": "python3"
  },
  "language_info": {
   "codemirror_mode": {
    "name": "ipython",
    "version": 3
   },
   "file_extension": ".py",
   "mimetype": "text/x-python",
   "name": "python",
   "nbconvert_exporter": "python",
   "pygments_lexer": "ipython3",
   "version": "3.6.4"
  }
 },
 "nbformat": 4,
 "nbformat_minor": 2
}
